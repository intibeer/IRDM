{
 "cells": [
  {
   "cell_type": "markdown",
   "metadata": {},
   "source": [
    "## Exporing the MRS Data Set "
   ]
  },
  {
   "cell_type": "markdown",
   "metadata": {},
   "source": [
    "    -Get to know the data\n",
    "    -Implement Lamda Rank\n",
    "    -Implement RankNet"
   ]
  },
  {
   "cell_type": "code",
   "execution_count": 2,
   "metadata": {
    "collapsed": false
   },
   "outputs": [
    {
     "name": "stderr",
     "output_type": "stream",
     "text": [
      "/opt/conda/lib/python3.5/site-packages/matplotlib/font_manager.py:273: UserWarning: Matplotlib is building the font cache using fc-list. This may take a moment.\n",
      "  warnings.warn('Matplotlib is building the font cache using fc-list. This may take a moment.')\n",
      "/opt/conda/lib/python3.5/site-packages/matplotlib/font_manager.py:273: UserWarning: Matplotlib is building the font cache using fc-list. This may take a moment.\n",
      "  warnings.warn('Matplotlib is building the font cache using fc-list. This may take a moment.')\n"
     ]
    }
   ],
   "source": [
    "import matplotlib.pyplot as plt\n",
    "import re\n",
    "import os\n",
    "import csv\n",
    "import pandas as pd\n",
    "input_path = \"../MSLP-WEB10K\""
   ]
  },
  {
   "cell_type": "code",
   "execution_count": 3,
   "metadata": {
    "collapsed": true
   },
   "outputs": [],
   "source": [
    "fold_1 = \"Fold1/\"\n",
    "fold_2 = \"Fold2/\"\n",
    "fold_3 = \"Fold3/\""
   ]
  },
  {
   "cell_type": "code",
   "execution_count": 4,
   "metadata": {
    "collapsed": false
   },
   "outputs": [
    {
     "name": "stdout",
     "output_type": "stream",
     "text": [
      "Fold1\n",
      "Fold2\n",
      "Fold3\n",
      "Fold4\n",
      "Fold5\n",
      "\n"
     ]
    }
   ],
   "source": [
    "import numpy as np # linear algebra\n",
    "import pandas as pd # data processing, CSV file I/O (e.g. pd.read_csv)\n",
    "\n",
    "# Input data files are available in the \"../input/\" directory.\n",
    "# For example, running this (by clicking run or pressing Shift+Enter) will list the files in the input directory\n",
    "\n",
    "from subprocess import check_output\n",
    "print(check_output([\"ls\", \"./data\"]).decode(\"utf8\"))\n",
    "\n",
    "# Any results you write to the current directory are saved as output."
   ]
  },
  {
   "cell_type": "code",
   "execution_count": 8,
   "metadata": {
    "collapsed": false
   },
   "outputs": [
    {
     "name": "stderr",
     "output_type": "stream",
     "text": [
      "/opt/conda/lib/python3.5/site-packages/ipykernel/__main__.py:2: ParserWarning: Falling back to the 'python' engine because the 'c' engine does not support regex separators (separators > 1 char and different from '\\s+' are interpreted as regex); you can avoid this warning by specifying engine='python'.\n",
      "  from ipykernel import kernelapp as app\n"
     ]
    }
   ],
   "source": [
    "#data = pd.read_table('./data/Fold1/vali.txt', header = None)\n",
    "data = pd.read_table('./data/Fold1/vali.txt', sep=\"qid:\", header = None)"
   ]
  },
  {
   "cell_type": "code",
   "execution_count": 9,
   "metadata": {
    "collapsed": false
   },
   "outputs": [
    {
     "data": {
      "text/html": [
       "<div>\n",
       "<table border=\"1\" class=\"dataframe\">\n",
       "  <thead>\n",
       "    <tr style=\"text-align: right;\">\n",
       "      <th></th>\n",
       "      <th>0</th>\n",
       "      <th>1</th>\n",
       "    </tr>\n",
       "  </thead>\n",
       "  <tbody>\n",
       "    <tr>\n",
       "      <th>0</th>\n",
       "      <td>0</td>\n",
       "      <td>10 1:2 2:0 3:0 4:0 5:2 6:0.666667 7:0 8:0 9:0 ...</td>\n",
       "    </tr>\n",
       "    <tr>\n",
       "      <th>1</th>\n",
       "      <td>0</td>\n",
       "      <td>10 1:1 2:0 3:1 4:3 5:3 6:0.333333 7:0 8:0.3333...</td>\n",
       "    </tr>\n",
       "    <tr>\n",
       "      <th>2</th>\n",
       "      <td>1</td>\n",
       "      <td>10 1:3 2:0 3:3 4:0 5:3 6:1 7:0 8:1 9:0 10:1 11...</td>\n",
       "    </tr>\n",
       "    <tr>\n",
       "      <th>3</th>\n",
       "      <td>0</td>\n",
       "      <td>10 1:3 2:0 3:2 4:0 5:3 6:1 7:0 8:0.666667 9:0 ...</td>\n",
       "    </tr>\n",
       "    <tr>\n",
       "      <th>4</th>\n",
       "      <td>1</td>\n",
       "      <td>10 1:3 2:0 3:3 4:0 5:3 6:1 7:0 8:1 9:0 10:1 11...</td>\n",
       "    </tr>\n",
       "    <tr>\n",
       "      <th>5</th>\n",
       "      <td>2</td>\n",
       "      <td>10 1:3 2:0 3:3 4:1 5:3 6:1 7:0 8:1 9:0.333333 ...</td>\n",
       "    </tr>\n",
       "    <tr>\n",
       "      <th>6</th>\n",
       "      <td>1</td>\n",
       "      <td>10 1:3 2:0 3:3 4:1 5:3 6:1 7:0 8:1 9:0.333333 ...</td>\n",
       "    </tr>\n",
       "    <tr>\n",
       "      <th>7</th>\n",
       "      <td>1</td>\n",
       "      <td>10 1:3 2:0 3:3 4:0 5:3 6:1 7:0 8:1 9:0 10:1 11...</td>\n",
       "    </tr>\n",
       "    <tr>\n",
       "      <th>8</th>\n",
       "      <td>0</td>\n",
       "      <td>10 1:0 2:0 3:0 4:0 5:0 6:0 7:0 8:0 9:0 10:0 11...</td>\n",
       "    </tr>\n",
       "    <tr>\n",
       "      <th>9</th>\n",
       "      <td>0</td>\n",
       "      <td>10 1:2 2:0 3:1 4:0 5:2 6:0.666667 7:0 8:0.3333...</td>\n",
       "    </tr>\n",
       "  </tbody>\n",
       "</table>\n",
       "</div>"
      ],
      "text/plain": [
       "   0                                                  1\n",
       "0  0  10 1:2 2:0 3:0 4:0 5:2 6:0.666667 7:0 8:0 9:0 ...\n",
       "1  0  10 1:1 2:0 3:1 4:3 5:3 6:0.333333 7:0 8:0.3333...\n",
       "2  1  10 1:3 2:0 3:3 4:0 5:3 6:1 7:0 8:1 9:0 10:1 11...\n",
       "3  0  10 1:3 2:0 3:2 4:0 5:3 6:1 7:0 8:0.666667 9:0 ...\n",
       "4  1  10 1:3 2:0 3:3 4:0 5:3 6:1 7:0 8:1 9:0 10:1 11...\n",
       "5  2  10 1:3 2:0 3:3 4:1 5:3 6:1 7:0 8:1 9:0.333333 ...\n",
       "6  1  10 1:3 2:0 3:3 4:1 5:3 6:1 7:0 8:1 9:0.333333 ...\n",
       "7  1  10 1:3 2:0 3:3 4:0 5:3 6:1 7:0 8:1 9:0 10:1 11...\n",
       "8  0  10 1:0 2:0 3:0 4:0 5:0 6:0 7:0 8:0 9:0 10:0 11...\n",
       "9  0  10 1:2 2:0 3:1 4:0 5:2 6:0.666667 7:0 8:0.3333..."
      ]
     },
     "execution_count": 9,
     "metadata": {},
     "output_type": "execute_result"
    }
   ],
   "source": [
    "data.head(10)"
   ]
  },
  {
   "cell_type": "code",
   "execution_count": null,
   "metadata": {
    "collapsed": true
   },
   "outputs": [],
   "source": []
  }
 ],
 "metadata": {
  "kernelspec": {
   "display_name": "Python 3",
   "language": "python",
   "name": "python3"
  },
  "language_info": {
   "codemirror_mode": {
    "name": "ipython",
    "version": 3
   },
   "file_extension": ".py",
   "mimetype": "text/x-python",
   "name": "python",
   "nbconvert_exporter": "python",
   "pygments_lexer": "ipython3",
   "version": "3.5.2"
  }
 },
 "nbformat": 4,
 "nbformat_minor": 0
}
